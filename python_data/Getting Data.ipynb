{
 "cells": [
  {
   "cell_type": "markdown",
   "metadata": {},
   "source": [
    "# Getting Started with Data"
   ]
  },
  {
   "cell_type": "code",
   "execution_count": 7,
   "metadata": {
    "collapsed": false
   },
   "outputs": [],
   "source": [
    "import requests\n",
    "from bs4 import BeautifulSoup\n",
    "\n",
    "\n",
    "response = requests.get(\"http://api.wolframalpha.com/v2/query?appid=2L425U-2AV8PYP2VU&input=programmer%20salary%20vs%20truck%20driver%20salary&format=image,plaintext\")\n",
    "\n",
    "page_text = response.text\n",
    "\n",
    "\n",
    "soup = BeautifulSoup(r.text, 'html.parser')"
   ]
  },
  {
   "cell_type": "code",
   "execution_count": 23,
   "metadata": {
    "collapsed": false
   },
   "outputs": [
    {
     "name": "stdout",
     "output_type": "stream",
     "text": [
      "computer programmers | $69620 per year  (US dollars per year)  (2008)\n",
      "heavy and tractor-trailer truck drivers | $37730 per year  (US dollars per year)  (2009)\n"
     ]
    }
   ],
   "source": [
    "print soup.find_all(\"pod\", id=\"Result\")[0].plaintext.string"
   ]
  },
  {
   "cell_type": "code",
   "execution_count": 24,
   "metadata": {
    "collapsed": false
   },
   "outputs": [
    {
     "name": "stdout",
     "output_type": "stream",
     "text": [
      " | computer programmers | heavy and tractor-trailer truck drivers\n",
      "people employed | 367880 people | 1.55093 million people\n",
      "yearly change | -26350 people  (-7%) | -121650 people  (-7%)\n",
      "workforce fraction | 0.3%  (1 in 355) | 1%  (1 in 84)\n",
      "median wage | $69620 per year | $37730 per year\n",
      "median wage yearly change | +$1540 per year  (+2%) | +$460 per year  (+1%)\n",
      "50% range | $(52640 to 89720) per year | $(30020 to 47080) per year\n",
      "80% range | $(40080 to 111450) per year | $(24640 to 56970) per year\n",
      "(2009 data)\n"
     ]
    }
   ],
   "source": [
    "print soup.find_all(\"pod\", title=\"Employment summary\")[0].plaintext.string"
   ]
  },
  {
   "cell_type": "code",
   "execution_count": null,
   "metadata": {
    "collapsed": true
   },
   "outputs": [],
   "source": []
  }
 ],
 "metadata": {
  "kernelspec": {
   "display_name": "Python 2",
   "language": "python",
   "name": "python2"
  },
  "language_info": {
   "codemirror_mode": {
    "name": "ipython",
    "version": 2
   },
   "file_extension": ".py",
   "mimetype": "text/x-python",
   "name": "python",
   "nbconvert_exporter": "python",
   "pygments_lexer": "ipython2",
   "version": "2.7.10"
  }
 },
 "nbformat": 4,
 "nbformat_minor": 0
}
